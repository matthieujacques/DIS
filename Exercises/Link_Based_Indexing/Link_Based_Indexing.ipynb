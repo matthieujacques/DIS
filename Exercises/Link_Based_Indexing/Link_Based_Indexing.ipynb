{
 "cells": [
  {
   "cell_type": "markdown",
   "metadata": {},
   "source": [
    "# Link based ranking\n",
    "\n"
   ]
  },
  {
   "cell_type": "markdown",
   "metadata": {},
   "source": [
    "## 📚 Exercise 1: Page rank  (Eigen-vector method)\n",
    "\n",
    "In the first exercise, we implement the Page Rank algorithm using Eigen vector method.\n",
    "\n",
    "\n",
    "### Goal:\n",
    "1. Implementing Page rank with Eigen-vector method.\n",
    "2. Testing the implemented method on a small Web with three pages (with four different link structures).\n",
    "\n",
    "### What you are learning in this exercise:\n",
    "1. Analyzing the output of PageRank for different link structures."
   ]
  },
  {
   "cell_type": "markdown",
   "metadata": {},
   "source": [
    "**Preliminaries:** If you want to normalize a vector to L1-norm or L2-norm, you can use `numpy` library as follows:"
   ]
  },
  {
   "cell_type": "code",
   "execution_count": 1,
   "metadata": {},
   "outputs": [
    {
     "name": "stdout",
     "output_type": "stream",
     "text": [
      "L1-norm of [1 2 3] is [0.16666667 0.33333333 0.5       ]\n",
      "L2-norm of [1 2 3] is [0.26726124 0.53452248 0.80178373]\n"
     ]
    }
   ],
   "source": [
    "from __future__ import print_function, division\n",
    "import numpy as np\n",
    "\n",
    "pr = np.array([1,2,3])\n",
    "print(\"L1-norm of {0} is {1}\".format(pr, pr / np.linalg.norm(pr,1)))\n",
    "print(\"L2-norm of {0} is {1}\".format(pr, pr / np.linalg.norm(pr,2)))"
   ]
  },
  {
   "cell_type": "markdown",
   "metadata": {},
   "source": [
    "## Links structure\n",
    "Consider a tiny Web with three pages A, B and C with no inlinks, and with initial PageRank = 1. Initially, none of the pages link to any other pages and none link to them. \n",
    "Run your algorithm for the following cases, and calculate the PageRank for\n",
    "each case:\n",
    "\n",
    "1. Link page A to page B.\n",
    "2. Link all pages to each other.\n",
    "3. Link page A to both B and C, and link pages B and C to A.\n",
    "4. Use the previous links and add a link from page C to page B."
   ]
  },
  {
   "cell_type": "markdown",
   "metadata": {},
   "source": [
    "**Hints:**\n",
    "Please note that for this section, we are using the theoretical PageRank computation (without source of rank). See the slide \"Transition Matrix for Random Walker\" in the lecture notes. Columns of link matrix are from-vertex, rows of link matrix are to-vertex. We take the eigenvector with the largest eigenvalue.\n",
    "We only care about final ranking of the probability vector. You can choose the normalization (or not) of your choice."
   ]
  },
  {
   "cell_type": "code",
   "execution_count": 2,
   "metadata": {},
   "outputs": [],
   "source": [
    "def create_Rmatrix(L):\n",
    "    X = np.sum(L,axis=0)\n",
    "    n_nodes = L.shape[0]\n",
    "    R = np.zeros((n_nodes, n_nodes))\n",
    "    for i in range(L.shape[0]):\n",
    "        for j in range(L.shape[1]):\n",
    "            R[i,j] = L[i,j] / X[0,j] if X[0,j] != 0 else 0\n",
    "    return R"
   ]
  },
  {
   "cell_type": "code",
   "execution_count": 3,
   "metadata": {},
   "outputs": [],
   "source": [
    "# Implement your code here\n",
    "\n",
    "def pagerank_eigen(L, R=None):\n",
    "#   Construct transition probability matrix from L\n",
    "    if R is None: R = create_Rmatrix(L)\n",
    "#     Compute eigen-vectors and eigen-values of R\n",
    "    eigenvalues, eigenvectors = np.linalg.eig(R)\n",
    "#     Take the eigen-vector with maximum eigven-value\n",
    "    p = np.absolute(eigenvectors[:,np.argmax(np.absolute(eigenvalues))])\n",
    "    return (R,p)"
   ]
  },
  {
   "cell_type": "code",
   "execution_count": 4,
   "metadata": {},
   "outputs": [
    {
     "name": "stdout",
     "output_type": "stream",
     "text": [
      "L=[[0 1 1]\n",
      " [1 0 1]\n",
      " [1 1 0]]\n",
      "R=[[0.  0.5 0.5]\n",
      " [0.5 0.  0.5]\n",
      " [0.5 0.5 0. ]]\n",
      "p=[0.57735027 0.57735027 0.57735027]\n"
     ]
    }
   ],
   "source": [
    "# Test with a sample case, e.g.\n",
    "L = np.matrix([\n",
    "    [0,1,1], \n",
    "    [1,0,1], \n",
    "    [1,1,0]\n",
    "])\n",
    "R,p = pagerank_eigen(L)\n",
    "print(\"L={0}\\nR={1}\\np={2}\".format(L,R,p))"
   ]
  },
  {
   "cell_type": "markdown",
   "metadata": {},
   "source": [
    "## 📚 Exercise 2: Page rank  (Iterative method)\n",
    "\n",
    "In the second exercise, we implement the Page Rank algorithm with an iterative approach.\n",
    "\n",
    "\n",
    "### Goal:\n",
    "1. Implementing Page rank with the iterative method.\n",
    "2. Reading the `ca-GrQc.txt` dataset and constructing its link matrix\n",
    "3. Testing the implemented algorithm on the constructed link matrix\n",
    "4. comparing the run-time of iterative method and eigen-vector method.\n",
    "\n",
    "### What you are learning in this exercise:\n",
    "1. Benefits of the iterative approach over eigen-vector method."
   ]
  },
  {
   "cell_type": "markdown",
   "metadata": {},
   "source": [
    "The eigen-vector method has some numerical issues (when computing eigen-vector) and not scalable with large datasets.\n",
    "\n",
    "We will apply the iterative method in the slide \"Practical Computation of PageRank\" of the lecture.\n",
    "\n",
    "Dataset for practice: https://snap.stanford.edu/data/ca-GrQc.html. It is available within the same paths of this notebook."
   ]
  },
  {
   "cell_type": "code",
   "execution_count": 5,
   "metadata": {},
   "outputs": [],
   "source": [
    "\n",
    "def pagerank_iterative(L, R=None):\n",
    "    if R is None: #We might want to compute R outside this function to avoid recomputing large matrix\n",
    "        R = np.multiply(L, 1 / np.sum(L,axis=0))\n",
    "        \n",
    "    N = R.shape[0]\n",
    "    e = np.ones(shape=(N,1))\n",
    "    q = 0.9\n",
    "\n",
    "    p = e\n",
    "    delta = 1\n",
    "    epsilon = 0.001\n",
    "    i = 0\n",
    "    while delta > epsilon:\n",
    "        p_prev = p\n",
    "        p = np.matmul(q * R, p_prev)\n",
    "        p = p + (1-q) / N * e\n",
    "        delta = np.linalg.norm(p-p_prev,1)\n",
    "        i += 1\n",
    "\n",
    "    print(\"Converged after {0} iterations\".format(i))\n",
    "    return R,p"
   ]
  },
  {
   "cell_type": "markdown",
   "metadata": {},
   "source": [
    "### Construct link matrix from dataset"
   ]
  },
  {
   "cell_type": "code",
   "execution_count": 16,
   "metadata": {},
   "outputs": [
    {
     "name": "stdout",
     "output_type": "stream",
     "text": [
      "5242\n",
      "[3466, 937, 5233]\n",
      "[[0. 1. 1. ... 0. 0. 0.]\n",
      " [1. 0. 0. ... 0. 0. 0.]\n",
      " [1. 0. 0. ... 0. 0. 0.]\n",
      " ...\n",
      " [0. 0. 0. ... 0. 1. 1.]\n",
      " [0. 0. 0. ... 1. 0. 1.]\n",
      " [0. 0. 0. ... 1. 1. 0.]]\n"
     ]
    }
   ],
   "source": [
    "# Construct link matrix from file\n",
    "n_nodes = 0 # number of nodes in the dataset\n",
    "nodes_idx = dict() #Since the nodeIDs are not from 0 to N we need to build an index of nodes\n",
    "nodes = [] #We also want to store nodeIDs to return the result of ranking vector\n",
    "\n",
    "# Read the nodes\n",
    "with open(\"ca-GrQc.txt\") as f:\n",
    "    for line in f:\n",
    "        if '#' not in line:\n",
    "            source = int(line.split()[0])\n",
    "            target = int(line.split()[1])\n",
    "            if source not in nodes_idx.keys():\n",
    "                nodes_idx[source] = n_nodes\n",
    "                nodes.append(source)\n",
    "                n_nodes += 1\n",
    "            if target not in nodes_idx.keys():\n",
    "                nodes_idx[target] = n_nodes\n",
    "                nodes.append(target)\n",
    "                n_nodes += 1\n",
    "print(n_nodes)\n",
    "print(nodes[:3])\n",
    "\n",
    "L = np.zeros((n_nodes, n_nodes))\n",
    "# Read the edges\n",
    "with open(\"ca-GrQc.txt\") as f:\n",
    "    for line in f:\n",
    "        if \"#\" not in line:\n",
    "            source = int(line.split()[0])\n",
    "            target = int(line.split()[1])\n",
    "            L[nodes_idx[target], nodes_idx[source]] = 1 #Columns of link matrix are from-vertices\n",
    "print(L)"
   ]
  },
  {
   "cell_type": "markdown",
   "metadata": {},
   "source": [
    "## Comparing the run-time of eigen-vector and iterative methods"
   ]
  },
  {
   "cell_type": "markdown",
   "metadata": {},
   "source": [
    "### You will see that eigen-vector method is slow and has some numerical issues\n"
   ]
  },
  {
   "cell_type": "markdown",
   "metadata": {},
   "source": [
    "#### First we pre-compute the R matrix and pass it as argument to Page rank algorithms."
   ]
  },
  {
   "cell_type": "code",
   "execution_count": 7,
   "metadata": {},
   "outputs": [
    {
     "name": "stdout",
     "output_type": "stream",
     "text": [
      "[[0.  0.5 0.5]\n",
      " [0.5 0.  0.5]\n",
      " [0.5 0.5 0. ]]\n"
     ]
    }
   ],
   "source": [
    "R = np.multiply(L, 1 / np.sum(L,axis=0))  # note that this doesn't handle zero columns\n",
    "print(R)"
   ]
  },
  {
   "cell_type": "code",
   "execution_count": 8,
   "metadata": {},
   "outputs": [
    {
     "name": "stdout",
     "output_type": "stream",
     "text": [
      "--- 0.0009992122650146484 seconds ---\n",
      "Ranking vector: p=[[0.57735027]\n",
      " [0.57735027]\n",
      " [0.57735027]]\n"
     ]
    }
   ],
   "source": [
    "import time\n",
    "start_time = time.time()\n",
    "# Run PageRank\n",
    "R,p = pagerank_eigen(L, R)\n",
    "print(\"--- %s seconds ---\" % (time.time() - start_time))\n",
    "print(\"Ranking vector: p={0}\".format(p))"
   ]
  },
  {
   "cell_type": "markdown",
   "metadata": {},
   "source": [
    "### Iterative method"
   ]
  },
  {
   "cell_type": "code",
   "execution_count": 9,
   "metadata": {},
   "outputs": [
    {
     "name": "stdout",
     "output_type": "stream",
     "text": [
      "Converged after 52 iterations\n",
      "--- 0.010723114013671875 seconds ---\n",
      "Ranking vector: p=[[0.33611637]\n",
      " [0.33611637]\n",
      " [0.33611637]]\n"
     ]
    }
   ],
   "source": [
    "start_time = time.time()\n",
    "# Run PageRank\n",
    "R, p = pagerank_iterative(L, R)\n",
    "print(\"--- %s seconds ---\" % (time.time() - start_time))\n",
    "print(\"Ranking vector: p={0}\".format(p[:,0]))"
   ]
  },
  {
   "cell_type": "markdown",
   "metadata": {},
   "source": [
    "## Now let's extract top-k nodes from the ranking vector"
   ]
  },
  {
   "cell_type": "code",
   "execution_count": 10,
   "metadata": {},
   "outputs": [
    {
     "name": "stdout",
     "output_type": "stream",
     "text": [
      "Top-3 nodes: [[3466]\n",
      " [3466]\n",
      " [3466]]\n",
      "Their scores: [[[0.33611637]]\n",
      "\n",
      " [[0.33611637]]\n",
      "\n",
      " [[0.33611637]]]\n"
     ]
    }
   ],
   "source": [
    "arr = np.array(p[:,0])\n",
    "k = 3\n",
    "k_idx = arr.argsort()[-k:][::-1]\n",
    "print(\"Top-{0} nodes: {1}\".format(k, np.array(nodes)[k_idx]))\n",
    "print(\"Their scores: {0}\".format(arr[k_idx]))"
   ]
  },
  {
   "cell_type": "markdown",
   "metadata": {},
   "source": [
    "## 📚 Exercise 3: Ranking Methodology  (Hard)\n",
    "This exercise is theoretical and you don't need to write code for it:\n",
    "\n",
    "1. Give a directed graph, as small as possible, satisfying all the properties mentioned below:\n",
    "\n",
    "    1. There exists a path from node i to node j for all nodes i,j in the directed\n",
    "graph. Recall, with this property the jump to an arbitrary node in PageRank\n",
    "is not required, so that you can set q = 1 (refer lecture slides).\n",
    "\n",
    "    2. HITS authority ranking and PageRank ranking of the graph nodes are different.\n",
    "\n",
    "2. Give intuition/methodology on how you constructed such a directed graph with\n",
    "the properties described in (a).\n",
    "\n",
    "3. Are there specific graph structures with arbitrarily large instances where PageRank\n",
    "ranking and HITS authority ranking are the same?"
   ]
  },
  {
   "cell_type": "markdown",
   "metadata": {},
   "source": [
    "1. directed graph with: path from node i to j for all nodes i,j; hits authority ranking and pagerank ranking of the graph nodes are different\n",
    "\n",
    "voir correction"
   ]
  },
  {
   "cell_type": "markdown",
   "metadata": {},
   "source": [
    "## 📚 Exercise 4: Hub and Authority\n",
    "\n",
    "In the last exercise, we implement the (iterative) HITS algorithm to calculate the authority and hub scores for this graph.\n",
    "\n",
    "\n",
    "### Goal:\n",
    "1. Implementing HITS algorithm.\n",
    "2. Identifying the best authority and hub nodes for a small graph (part `a`) as well as the `ca-GrQc.txt` dataset (part `b`)"
   ]
  },
  {
   "cell_type": "markdown",
   "metadata": {},
   "source": [
    "\n",
    "### a)\n",
    "\n",
    "Let the adjacency matrix for a graph of four vertices ($n_1$ to $n_4$) be\n",
    "as follows:\n",
    "\n",
    "$\n",
    "A =\n",
    "  \\begin{bmatrix}\n",
    "\t0 & 1 & 1 & 1  \\\\\n",
    "\t0 & 0 & 1 & 1 \\\\\n",
    "\t1 & 0 & 0 & 1 \\\\\n",
    "\t0 & 0 & 0 & 1 \\\\\n",
    "  \\end{bmatrix}\n",
    "$\n",
    "\n",
    "Calculate the authority and hub scores for this graph using the\n",
    "HITS algorithm with k = 6, and identify the best authority and\n",
    "hub nodes. (A non-zero element $A_{ij}$ indicates an edge from $i$ to $j$.)\n",
    "\n",
    "### b)\n",
    "Apply the HITS algorithm to the `ca-GrQc.txt` dataset (the same dataset as for the `Exercise 2`)"
   ]
  },
  {
   "cell_type": "markdown",
   "metadata": {},
   "source": [
    "**Hint:** We follow the slide \"HITS algorithm\" in the lecture. **Denote $x$ as authority vector and $y$ as hub vector**. You can use matrix multiplication for the update steps in the slide \"Convergence of HITS\". Note that rows of adjacency matrix is from-vertex and columns of adjacency matrix is to-vertex."
   ]
  },
  {
   "cell_type": "code",
   "execution_count": 11,
   "metadata": {},
   "outputs": [],
   "source": [
    "def hits_iterative(A, k = 10):\n",
    "    N = A.shape[0]\n",
    "    x0, y0 = 1 / (N**0.5) * np.ones(N), 1 / (N**0.5) * np.ones(N)\n",
    "    xprev, yprev = x0, y0\n",
    "    delta1 = delta2 = 1\n",
    "    epsilon = 0.001 # We can strictly check for convergence rate of HITS algorithm\n",
    "    l = 0\n",
    "    while l < k and delta1 > epsilon and delta2 > epsilon:\n",
    "        y = np.matmul(A, xprev)\n",
    "        x = np.matmul(np.transpose(A), y) \n",
    "        x = x / np.linalg.norm(x,2)\n",
    "        y = y / np.linalg.norm(y,2)\n",
    "        delta1 = np.linalg.norm(x-xprev,1)\n",
    "        delta2 = np.linalg.norm(y-yprev,1)\n",
    "        xprev = x\n",
    "        yprev = y\n",
    "        l += 1\n",
    "    \n",
    "    print(\"Ran a total of {0} iterations with the convergence rate delta1, delta2={1},{2}\".format(l, delta1, delta2))\n",
    "    return xprev, yprev"
   ]
  },
  {
   "cell_type": "markdown",
   "metadata": {},
   "source": [
    "### Part `a` dataset"
   ]
  },
  {
   "cell_type": "code",
   "execution_count": 12,
   "metadata": {},
   "outputs": [
    {
     "name": "stdout",
     "output_type": "stream",
     "text": [
      "Ran a total of 4 iterations with the convergence rate delta1, delta2=0.0006129616443491248,0.0016852780559585279\n",
      "Result using iterative method:\n",
      " Authoriy vector x=[0.16854345 0.27253834 0.49794598 0.80583234]\n",
      " Hub vector y=[0.65541849 0.54207544 0.40532459 0.33510118]\n"
     ]
    }
   ],
   "source": [
    "A=np.array([\n",
    "    [0, 1, 1, 1], \n",
    "    [0, 0, 1, 1], \n",
    "    [1, 0, 0, 1],\n",
    "    [0, 0, 0, 1],\n",
    "])\n",
    "x, y = hits_iterative(A, k=6)\n",
    "print(\"Result using iterative method:\\n Authoriy vector x={0}\\n Hub vector y={1}\".format(x, y))"
   ]
  },
  {
   "cell_type": "markdown",
   "metadata": {},
   "source": [
    "### part `b` dataset\n",
    "You can reuse the link matrix $L$ (from Exercise 2) to compute the adjacency matrix $A$ of the dataset"
   ]
  },
  {
   "cell_type": "code",
   "execution_count": 17,
   "metadata": {},
   "outputs": [
    {
     "name": "stdout",
     "output_type": "stream",
     "text": [
      "[[0. 1. 1. ... 0. 0. 0.]\n",
      " [1. 0. 0. ... 0. 0. 0.]\n",
      " [1. 0. 0. ... 0. 0. 0.]\n",
      " ...\n",
      " [0. 0. 0. ... 0. 1. 1.]\n",
      " [0. 0. 0. ... 1. 0. 1.]\n",
      " [0. 0. 0. ... 1. 1. 0.]]\n"
     ]
    }
   ],
   "source": [
    "A = np.transpose(L) # your code here\n",
    "print(A)"
   ]
  },
  {
   "cell_type": "markdown",
   "metadata": {},
   "source": [
    "Run HITS algorithm:"
   ]
  },
  {
   "cell_type": "code",
   "execution_count": 18,
   "metadata": {},
   "outputs": [
    {
     "name": "stdout",
     "output_type": "stream",
     "text": [
      "Ran a total of 22 iterations with the convergence rate delta1, delta2=0.0008757061781108388,0.0010491474133433752\n",
      "Result using iterative method:\n",
      " Authoriy vector x=[3.48948782e-05 1.45965227e-05 6.68131191e-06 ... 2.07766184e-61\n",
      " 2.07766184e-61 2.07766184e-61]\n",
      " Hub vector y=[3.48948790e-05 1.45965251e-05 6.68131268e-06 ... 4.73879981e-60\n",
      " 4.73879981e-60 4.73879981e-60]\n"
     ]
    }
   ],
   "source": [
    "x, y = hits_iterative(A, 100)\n",
    "print(\"Result using iterative method:\\n Authoriy vector x={0}\\n Hub vector y={1}\".format(x, y))"
   ]
  },
  {
   "cell_type": "code",
   "execution_count": null,
   "metadata": {},
   "outputs": [],
   "source": []
  },
  {
   "cell_type": "markdown",
   "metadata": {},
   "source": []
  }
 ],
 "metadata": {
  "kernelspec": {
   "display_name": "Python 3",
   "language": "python",
   "name": "python3"
  },
  "language_info": {
   "codemirror_mode": {
    "name": "ipython",
    "version": 3
   },
   "file_extension": ".py",
   "mimetype": "text/x-python",
   "name": "python",
   "nbconvert_exporter": "python",
   "pygments_lexer": "ipython3",
   "version": "3.11.5"
  },
  "toc": {
   "base_numbering": 1,
   "nav_menu": {},
   "number_sections": true,
   "sideBar": true,
   "skip_h1_title": true,
   "title_cell": "Table of Contents",
   "title_sidebar": "Contents",
   "toc_cell": false,
   "toc_position": {},
   "toc_section_display": true,
   "toc_window_display": true
  }
 },
 "nbformat": 4,
 "nbformat_minor": 4
}
