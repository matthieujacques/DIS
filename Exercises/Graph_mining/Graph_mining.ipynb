{
 "cells": [
  {
   "cell_type": "markdown",
   "metadata": {},
   "source": [
    "# Graph Mining"
   ]
  },
  {
   "cell_type": "markdown",
   "metadata": {},
   "source": [
    "## 📚 Exercise 1\n",
    "Complete the function `compute_modularity` to compute the modularity measure of a given graph.\n",
    "\n",
    "### Goal:\n",
    "1. Visualizing two graphs using `networkx` (the Karate Club graph is currently commented out in the code)\n",
    "2. Completing `compute_modularity` function that aims to measure modularity of a given graph\n",
    "\n",
    "### What you are learning in this exercise:\n",
    "1. Getting familiar with `networkx` library.\n",
    "2. Analyzing modularity measure for different graph inputs\n",
    "\n",
    "#### Hint: you can install `networkx` package by running the following command in a  notebook cell: `!conda install networkx --yes `"
   ]
  },
  {
   "cell_type": "code",
   "execution_count": 1,
   "metadata": {},
   "outputs": [
    {
     "data": {
      "image/png": "[encoded data removed]",
      "text/plain": [
       "<Figure size 640x480 with 1 Axes>"
      ]
     },
     "metadata": {},
     "output_type": "display_data"
    }
   ],
   "source": [
    "import networkx as nx\n",
    "import numpy as np\n",
    "%matplotlib inline\n",
    "\n",
    "M = [\"0,1,2\",\n",
    "\"1,0,2\",\n",
    "\"2,0,1,3\",\n",
    "\"3,2,4,5\",\n",
    "\"4,3,5\",\n",
    "\"5,3,4\"\n",
    "    ]\n",
    "G=nx.parse_adjlist(M, nodetype=int, delimiter=\",\")\n",
    "nx.draw_networkx(G)\n",
    "\n",
    "#G = nx.karate_club_graph()\n",
    "#nx.draw_networkx(G)"
   ]
  },
  {
   "cell_type": "code",
   "execution_count": 6,
   "metadata": {},
   "outputs": [
    {
     "data": {
      "text/plain": [
       "7"
      ]
     },
     "execution_count": 6,
     "metadata": {},
     "output_type": "execute_result"
    }
   ],
   "source": [
    "for node in [0,1,2]:\n",
    "    G.nodes[node]['community'] = 0\n",
    "for node in [3,4,5]:\n",
    "    G.nodes[node]['community'] = 1\n",
    "len(G.edges)"
   ]
  },
  {
   "cell_type": "code",
   "execution_count": 7,
   "metadata": {},
   "outputs": [],
   "source": [
    "# The community label of a node can be accessed by G[node_id]['community']\n",
    "# The degree of a node: G.degree[node_id]\n",
    "# The neighbors of a node: G.neighbors(node_id)\n",
    "# Number of edges between 2 nodes: G.number_of_edges(node_1, node_2)\n",
    "def compute_modularity(G, nodes_community):\n",
    "    ''' input: G:nx.Graph \n",
    "               nodes_community:{node_id:community_id}\n",
    "       output: Q (modularity metric)\n",
    "    '''\n",
    "    Q = 0\n",
    "    \n",
    "    m = len(G.edges)\n",
    "    for node_i in G.nodes:\n",
    "        for node_j in G.nodes:\n",
    "            if nodes_community[node_i] == nodes_community[node_j]:\n",
    "                Q += G.number_of_edges(node_i, node_j) - G.degree[node_i]*G.degree[node_j]/(2*m)\n",
    "    Q = Q/(2*m)\n",
    "\n",
    "    return Q "
   ]
  },
  {
   "cell_type": "code",
   "execution_count": 8,
   "metadata": {},
   "outputs": [
    {
     "name": "stdout",
     "output_type": "stream",
     "text": [
      "0.3571428571428571\n"
     ]
    }
   ],
   "source": [
    "nodes_community = {}\n",
    "for node in G.nodes():\n",
    "    nodes_community[node] = G.nodes[node]['community']\n",
    "Q = compute_modularity(G, nodes_community)\n",
    "print(Q)"
   ]
  },
  {
   "cell_type": "markdown",
   "metadata": {},
   "source": [
    "## 📚 Exercise 2\n",
    "Suppose that you have an undirected social graph G = (U, V), where U - set of nodes, V - set of edges.\n",
    "\n",
    "<img src=\"graph.png\" width=\"400\">\n",
    "\n",
    "Compute betweenness for the graph G and output the communities for the following betweenness threshold : 4, 6."
   ]
  },
  {
   "cell_type": "code",
   "execution_count": 9,
   "metadata": {},
   "outputs": [
    {
     "data": {
      "text/plain": [
       "['A, B, C',\n",
       " 'C, A, B',\n",
       " 'B, C, A, D',\n",
       " 'D, B, G, E, F',\n",
       " 'G, D, F',\n",
       " 'F, G, D, E',\n",
       " 'E, F, D']"
      ]
     },
     "execution_count": 9,
     "metadata": {},
     "output_type": "execute_result"
    }
   ],
   "source": [
    "['A, B, C', 'C, A, B', 'B, C, A, D', 'D, B, G, E, F', 'G, D, F', 'F, G, D, E', 'E, F, D']"
   ]
  },
  {
   "cell_type": "markdown",
   "metadata": {},
   "source": [
    "Girvan- Newman algorithm, first we visit each node X once and compute the number of shortest paths from X to each of the other nodes. To do so, we run BFS starting at node X.\n",
    "\n"
   ]
  },
  {
   "cell_type": "markdown",
   "metadata": {},
   "source": [
    "Path counting: \n",
    "\n",
    "si on commence de E: \n",
    "\n",
    "path = 1 : F, D\n",
    "\n",
    "path = 2 : G, B \n",
    "\n",
    "path = 3 : C, A\n",
    "\n",
    "\n",
    "tous les nodes sont labélés de 1 sauf G car il a 2 parents --> 2 shortest paths alors que les autres en on que 1"
   ]
  },
  {
   "cell_type": "markdown",
   "metadata": {},
   "source": [
    "flow counting: \n",
    "\n",
    "The flow that arrives at every node is 1.\n",
    "\n",
    "In addition each node receives the flow of its children. \n",
    "\n",
    "The flow of its children is distributed over the parents, proportionally to the number of paths that are leading to those parents (previous stage). \n",
    "\n",
    "chaque node donne possède 1 et donc le donne à ses/son parents, si un seul parents --> donne 1, si 2 parents --> donne 0.5 \n",
    "\n",
    "pour calculer, il faut donc simplement faire la somme de ce que la node reçoit de ses enfants et ajouter 1 (son score à elle)\n",
    "\n",
    "node qui ont 1 en score (elles n'ont pas d'enfants): A et C \n",
    "\n",
    "B reçoit 1 de A et 1 de C et a 1 de base --> obtient 3 \n",
    "\n",
    "D reçoit 1 de A, 1 de B et 1 de C et 0.5 de G et a 1 de base --> obtient 4.5\n",
    "\n",
    "F reçoit 0.5 de G et a 1 de base --> obtient 1.5\n",
    "\n",
    "E reçoit 4.5 (de D), 1.5 (de F) et a 1 de base --> obtient 7 \n",
    "\n",
    "A : 1\n",
    "C : 1 \n",
    "B : 3 \n",
    "D : 4.5 \n",
    "E : 7 \n",
    "F : 1.5 \n",
    "\n",
    "\n",
    "maintenant je fais pareils mais pour chaque noeud comme si c'était le noeud de départ : \n",
    "\n",
    "F : \n",
    "A : 1 \n",
    "C : 1\n",
    "B : 3\n",
    "D : 4.5 \n"
   ]
  },
  {
   "cell_type": "markdown",
   "metadata": {},
   "source": [
    "<img src=\"graph.png\" width=\"400\">\n"
   ]
  },
  {
   "cell_type": "code",
   "execution_count": 11,
   "metadata": {},
   "outputs": [
    {
     "data": {
      "image/png": "[encoded data removed]",
      "text/plain": [
       "<Figure size 640x480 with 1 Axes>"
      ]
     },
     "metadata": {},
     "output_type": "display_data"
    }
   ],
   "source": [
    "#      ['A, B, C', 'C, A, B', 'B, C, A, D', 'D, B, G, E, F', 'G, D, F', 'F, G, D, E', 'E, F, D']\n",
    "este = ['1, 2, 3', '3, 1, 2', '2, 3, 1, 4', '4, 2, 7, 5, 6', '7, 4, 6', '6, 7, 4, 5', '5, 6, 4']\n",
    "G=nx.parse_adjlist(este, nodetype=int, delimiter=\",\")\n",
    "nx.draw_networkx(G)"
   ]
  },
  {
   "cell_type": "code",
   "execution_count": null,
   "metadata": {},
   "outputs": [],
   "source": []
  }
 ],
 "metadata": {
  "kernelspec": {
   "display_name": "Python 3",
   "language": "python",
   "name": "python3"
  },
  "language_info": {
   "codemirror_mode": {
    "name": "ipython",
    "version": 3
   },
   "file_extension": ".py",
   "mimetype": "text/x-python",
   "name": "python",
   "nbconvert_exporter": "python",
   "pygments_lexer": "ipython3",
   "version": "3.11.5"
  }
 },
 "nbformat": 4,
 "nbformat_minor": 2
}
